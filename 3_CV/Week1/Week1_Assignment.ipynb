{
 "cells": [
  {
   "cell_type": "markdown",
   "id": "lightweight-taiwan",
   "metadata": {},
   "source": [
    "# Predicting Bounding Boxes\n",
    "\n",
    "Welcome to Course 3, Week 1 Programming Assignment! \n",
    "\n",
    "In this week's assignment, you'll build a model to predict bounding boxes around images.  \n",
    "- You will use transfer learning on any of the pre-trained models available in Keras. \n",
    "- You'll be using the [Caltech Birds - 2010](http://www.vision.caltech.edu/visipedia/CUB-200.html) dataset. \n",
    "\n",
    "\n",
    "### How to submit your work\n",
    "Notice that there is not a \"submit assignment\" button in this notebook.  \n",
    "\n",
    "To check your work and get graded on your work, you'll train the model, save it and then upload the model to Coursera for grading."
   ]
  },
  {
   "cell_type": "markdown",
   "id": "illegal-trinidad",
   "metadata": {},
   "source": [
    " - [Initial steps](#0)\n",
    "  - [0.1 Set up your Colab](#0-1)\n",
    "  - [0.2 Set up the data location](#0-2)\n",
    "  - [0.3 Choose the GPU Runtime](#0-3)\n",
    "  - [0.4 Mount your drive](#0-4)\n",
    "  - [0.5 Imports](#0-5)\n",
    "- [1. Visualization Utilities](#1)\n",
    "  - [1.1 Bounding Boxes Utilities](#1-1)\n",
    "  - [1.2 Data and Predictions Utilities](#1-2)\n",
    "- [2. Preprocessing and Loading the Dataset](#2)\n",
    "  - [2.1 Preprocessing Utilities](#2-1)\n",
    "  - [2.2 Visualize the prepared Data](#2-2)\n",
    "  - [2.3 Loading the Dataset](#2-3)\n",
    "- [3. Define the Network](#3)\n",
    "  - [Exercise 1](#ex-01)\n",
    "  - [Exercise 2](#ex-02)\n",
    "  - [Exercise 3](#ex-03)\n",
    "  - [Exercise 4](#ex-04)\n",
    "  - [Exercise 5](#ex-05)\n",
    "- [4. Training the Model](#4)\n",
    "  - [Prepare to train the model](#4.1)\n",
    "  - [Exercise 6](#ex-06)\n",
    "  - [Fit the model to the data](#4.2)\n",
    "  - [Exercise 7](#ex-07)\n",
    "- [5. Validate the Model](#5)\n",
    "  - [5.1 Loss](#5-1)\n",
    "  - [5.2 Save your Model](#5-2)\n",
    "  - [5.3 Plot the Loss Function](#5-3)  \n",
    "  - [5.4 Evaluate performance using IoU](#5-4)\n",
    "- [6. Visualize Predictions](#6)\n",
    "- [7. Upload your model for grading](#7)\n"
   ]
  },
  {
   "cell_type": "markdown",
   "id": "alternate-newport",
   "metadata": {},
   "source": [
    "<a name=\"0\"></a>\n",
    "## 0. Initial steps"
   ]
  },
  {
   "cell_type": "markdown",
   "id": "facial-force",
   "metadata": {},
   "source": [
    "<a name=\"0-1\"></a>\n",
    "## 0.1 Set up your Colab\n",
    "\n",
    "- As you cannot save the changes you make to this colab, you have to make a copy of this notebook in your own drive and run that. \n",
    "- You can do so by going to `File -> Save a copy in Drive`. \n",
    "- Close this colab and open the copy which you have made in your own drive. Then continue to the next step to set up the data location."
   ]
  },
  {
   "cell_type": "markdown",
   "id": "elegant-pittsburgh",
   "metadata": {},
   "source": [
    " <a name=\"0-2\"></a>\n",
    "## Set up the data location\n",
    "A copy of the dataset that you'll be using is stored in a publicly viewable Google Drive folder.  You'll want to add a shortcut to it to your own Google Drive.\n",
    "- Go to this google drive folder named [TF3 C3 W1 Data](https://drive.google.com/drive/folders/1xgqUw9uWzL5Kh88iPdX1TBQgnkc-wVKd?usp=sharing)\n",
    "- Next to the folder name \"TF3 C3 W1 Data\" (at the top of the page beside \"Shared with me\"), hover your mouse over the triangle to reveal the drop down menu. \n",
    "- Use the drop down menu to select `\"Add shortcut to Drive\"`  A pop-up menu will open up. \n",
    "- In the pop-up menu, \"My Drive\" is selected by default.  Click the `ADD SHORTCUT` button. This should add a shortcut to the folder `TF3 C3 W1 Data` within your own google drive at the location `content/drive`.\n",
    "- To verify, go to the left-side menu and click on \"My Drive\".  Scroll through your files to look for the shortcut TF3 C3 W1 Data.  \n",
    "\n",
    "Please make sure this happens, as you'll be reading the data for this notebook from this folder."
   ]
  },
  {
   "cell_type": "markdown",
   "id": "behavioral-pharmacy",
   "metadata": {},
   "source": [
    " <a name=\"0-3\"></a>\n",
    "## 0.3 Choose the GPU Runtime\n",
    "- Make sure your runtime is **GPU** (_not_ CPU or TPU). And if it is an option, make sure you are using _Python 3_. You can select these settings by going to `Runtime -> Change runtime type -> Select the above mentioned settings and then press SAVE`"
   ]
  },
  {
   "cell_type": "markdown",
   "id": "handy-rover",
   "metadata": {},
   "source": [
    " <a name=\"0-4\"></a>\n",
    "## 0.4 Mount your drive\n",
    "\n",
    "Please run the next code cell and follow these steps to mount your Google Drive so that it can be accessed by this Colab.\n",
    "- Run the code cell below.  A web link will appear below the cell.\n",
    "- Please click on the web link, which will open a new tab in your browser, which asks you to choose your google account.\n",
    "- Choose your google account to login.\n",
    "- The page will display \"Google Drive File Stream wants to access your Google Account\".  Please click \"Allow\".\n",
    "- The page will now show a code (a line of text).  Please copy the code and return to this Colab.\n",
    "- Paste the code the textbox that is labeled \"Enter your authorization code:\" and hit `<Enter>`\n",
    "- The text will now say \"Mounted at /content/drive/\"\n",
    "- Please look at the files explorer of this Colab (left side) and verify that you can navigate to `drive/MyDrive/TF3 C3 W1 Data/caltech_birds2010/0.1.1` . If the folder is not there, please redo the steps above and make sure that you're able to add the shortcut to the hosted dataset."
   ]
  },
  {
   "cell_type": "code",
   "execution_count": null,
   "id": "aboriginal-share",
   "metadata": {},
   "outputs": [],
   "source": [
    "from google.colab import drive\n",
    "drive.mount('/content/drive/', force_remount=True)"
   ]
  },
  {
   "cell_type": "markdown",
   "id": "cooperative-vector",
   "metadata": {},
   "source": [
    " <a name=\"0-5\"></a>\n",
    "## 0.5 Imports"
   ]
  },
  {
   "cell_type": "code",
   "execution_count": 1,
   "id": "pregnant-bunny",
   "metadata": {},
   "outputs": [],
   "source": [
    "import os, re, time, json\n",
    "import PIL.Image, PIL.ImageFont, PIL.ImageDraw\n",
    "import numpy as np\n",
    "import tensorflow as tf\n",
    "from matplotlib import pyplot as plt\n",
    "import tensorflow_datasets as tfds\n",
    "import cv2"
   ]
  },
  {
   "cell_type": "markdown",
   "id": "experimental-raise",
   "metadata": {},
   "source": [
    "Store the path to the data.\n",
    "- Remember to follow the steps to `set up the data location` (above) so that you'll have a shortcut to the data in your Google Drive."
   ]
  },
  {
   "cell_type": "code",
   "execution_count": null,
   "id": "similar-government",
   "metadata": {},
   "outputs": [],
   "source": [
    "data_dir = \"/content/drive/My Drive/TF3 C3 W1 Data/\""
   ]
  },
  {
   "cell_type": "code",
   "execution_count": null,
   "id": "reduced-proxy",
   "metadata": {},
   "outputs": [],
   "source": []
  },
  {
   "cell_type": "code",
   "execution_count": null,
   "id": "orange-omaha",
   "metadata": {},
   "outputs": [],
   "source": []
  },
  {
   "cell_type": "code",
   "execution_count": null,
   "id": "pressed-lesbian",
   "metadata": {},
   "outputs": [],
   "source": []
  },
  {
   "cell_type": "code",
   "execution_count": null,
   "id": "arranged-production",
   "metadata": {},
   "outputs": [],
   "source": []
  },
  {
   "cell_type": "code",
   "execution_count": null,
   "id": "german-schema",
   "metadata": {},
   "outputs": [],
   "source": []
  },
  {
   "cell_type": "code",
   "execution_count": null,
   "id": "extraordinary-intelligence",
   "metadata": {},
   "outputs": [],
   "source": []
  },
  {
   "cell_type": "code",
   "execution_count": null,
   "id": "saving-sleep",
   "metadata": {},
   "outputs": [],
   "source": []
  },
  {
   "cell_type": "code",
   "execution_count": null,
   "id": "experimental-peace",
   "metadata": {},
   "outputs": [],
   "source": []
  },
  {
   "cell_type": "code",
   "execution_count": null,
   "id": "excellent-europe",
   "metadata": {},
   "outputs": [],
   "source": []
  },
  {
   "cell_type": "code",
   "execution_count": null,
   "id": "organizational-portuguese",
   "metadata": {},
   "outputs": [],
   "source": []
  },
  {
   "cell_type": "code",
   "execution_count": null,
   "id": "auburn-oakland",
   "metadata": {},
   "outputs": [],
   "source": []
  },
  {
   "cell_type": "code",
   "execution_count": null,
   "id": "august-river",
   "metadata": {},
   "outputs": [],
   "source": []
  },
  {
   "cell_type": "code",
   "execution_count": null,
   "id": "decreased-preview",
   "metadata": {},
   "outputs": [],
   "source": []
  },
  {
   "cell_type": "code",
   "execution_count": null,
   "id": "owned-moderator",
   "metadata": {},
   "outputs": [],
   "source": []
  },
  {
   "cell_type": "code",
   "execution_count": null,
   "id": "practical-participant",
   "metadata": {},
   "outputs": [],
   "source": []
  },
  {
   "cell_type": "code",
   "execution_count": null,
   "id": "bound-corner",
   "metadata": {},
   "outputs": [],
   "source": []
  },
  {
   "cell_type": "code",
   "execution_count": null,
   "id": "upper-cholesterol",
   "metadata": {},
   "outputs": [],
   "source": []
  },
  {
   "cell_type": "code",
   "execution_count": null,
   "id": "rubber-investigation",
   "metadata": {},
   "outputs": [],
   "source": []
  }
 ],
 "metadata": {
  "kernelspec": {
   "display_name": "Python 3",
   "language": "python",
   "name": "python3"
  },
  "language_info": {
   "codemirror_mode": {
    "name": "ipython",
    "version": 3
   },
   "file_extension": ".py",
   "mimetype": "text/x-python",
   "name": "python",
   "nbconvert_exporter": "python",
   "pygments_lexer": "ipython3",
   "version": "3.7.9"
  }
 },
 "nbformat": 4,
 "nbformat_minor": 5
}
