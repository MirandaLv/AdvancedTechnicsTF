{
 "cells": [
  {
   "cell_type": "code",
   "execution_count": null,
   "metadata": {},
   "outputs": [],
   "source": [
    "def constructive_loss(y_true, y_pred):\n",
    "    \n",
    "    margin = 1\n",
    "    square_pred = K.square(y_pred)\n",
    "    margin_square = K.square(K.maximum(margin-y_pred),0)\n",
    "    return K.mean(y_true+square_pred+(1-y_true)*margin_square)\n",
    "\n",
    "\n",
    "# object oriented\n",
    "\n",
    "def ConstructiveLoss(Loss):\n",
    "    \n",
    "    margin = 0\n",
    "    \n",
    "    def __init__(self, margin):\n",
    "        \n",
    "        super().__init__()\n",
    "        self.margin = margin\n",
    "    \n",
    "    def call(self, y_pred, y_true):\n",
    "        \n",
    "        square_pred = K.square(y_pred)\n",
    "        margin_square = K.square(K.maximum(self.margin-y_pred),0)\n",
    "        \n",
    "        return K.mean(y_true+square_pred+(1-y_true)*margin_square)"
   ]
  }
 ],
 "metadata": {
  "kernelspec": {
   "display_name": "Python 3",
   "language": "python",
   "name": "python3"
  },
  "language_info": {
   "codemirror_mode": {
    "name": "ipython",
    "version": 3
   },
   "file_extension": ".py",
   "mimetype": "text/x-python",
   "name": "python",
   "nbconvert_exporter": "python",
   "pygments_lexer": "ipython3",
   "version": "3.6.10"
  }
 },
 "nbformat": 4,
 "nbformat_minor": 2
}
